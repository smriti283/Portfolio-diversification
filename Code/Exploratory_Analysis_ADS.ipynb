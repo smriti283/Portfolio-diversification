{
  "nbformat": 4,
  "nbformat_minor": 0,
  "metadata": {
    "colab": {
      "name": "Exploratory Analysis_ADS.ipynb",
      "provenance": [],
      "collapsed_sections": []
    },
    "kernelspec": {
      "name": "python3",
      "display_name": "Python 3"
    },
    "language_info": {
      "name": "python"
    }
  },
  "cells": [
    {
      "cell_type": "code",
      "source": [
        "pip install pycombo"
      ],
      "metadata": {
        "colab": {
          "base_uri": "https://localhost:8080/"
        },
        "id": "MUDekNK5UnIt",
        "outputId": "ff6b8dcf-d63e-4c4c-806f-ac8906a1dbc8"
      },
      "execution_count": null,
      "outputs": [
        {
          "output_type": "stream",
          "name": "stdout",
          "text": [
            "Collecting pycombo\n",
            "  Downloading pycombo-0.1.6.tar.gz (133 kB)\n",
            "\u001b[?25l\r\u001b[K     |██▌                             | 10 kB 18.7 MB/s eta 0:00:01\r\u001b[K     |█████                           | 20 kB 25.4 MB/s eta 0:00:01\r\u001b[K     |███████▍                        | 30 kB 11.9 MB/s eta 0:00:01\r\u001b[K     |█████████▉                      | 40 kB 9.3 MB/s eta 0:00:01\r\u001b[K     |████████████▎                   | 51 kB 5.2 MB/s eta 0:00:01\r\u001b[K     |██████████████▊                 | 61 kB 5.2 MB/s eta 0:00:01\r\u001b[K     |█████████████████▏              | 71 kB 5.5 MB/s eta 0:00:01\r\u001b[K     |███████████████████▋            | 81 kB 6.2 MB/s eta 0:00:01\r\u001b[K     |██████████████████████          | 92 kB 4.7 MB/s eta 0:00:01\r\u001b[K     |████████████████████████▋       | 102 kB 5.0 MB/s eta 0:00:01\r\u001b[K     |███████████████████████████     | 112 kB 5.0 MB/s eta 0:00:01\r\u001b[K     |█████████████████████████████▌  | 122 kB 5.0 MB/s eta 0:00:01\r\u001b[K     |████████████████████████████████| 133 kB 5.0 MB/s eta 0:00:01\r\u001b[K     |████████████████████████████████| 133 kB 5.0 MB/s \n",
            "\u001b[?25h  Installing build dependencies ... \u001b[?25l\u001b[?25hdone\n",
            "  Getting requirements to build wheel ... \u001b[?25l\u001b[?25hdone\n",
            "    Preparing wheel metadata ... \u001b[?25l\u001b[?25hdone\n",
            "Collecting importlib-metadata<2.0,>=1.0\n",
            "  Using cached importlib_metadata-1.7.0-py2.py3-none-any.whl (31 kB)\n",
            "Collecting pybind11<3.0.0,>=2.6.1\n",
            "  Downloading pybind11-2.8.1-py2.py3-none-any.whl (208 kB)\n",
            "\u001b[K     |████████████████████████████████| 208 kB 44.2 MB/s \n",
            "\u001b[?25hRequirement already satisfied: zipp>=0.5 in /usr/local/lib/python3.7/dist-packages (from importlib-metadata<2.0,>=1.0->pycombo) (3.6.0)\n",
            "Building wheels for collected packages: pycombo\n",
            "  Building wheel for pycombo (PEP 517) ... \u001b[?25l\u001b[?25hdone\n",
            "  Created wheel for pycombo: filename=pycombo-0.1.6-cp37-cp37m-manylinux_2_27_x86_64.whl size=97178 sha256=de3a11ae0d1a92b2b469ba3a13ed30c926073638d099be89f92855d0873be827\n",
            "  Stored in directory: /root/.cache/pip/wheels/7c/17/56/3d9cd1c2914076a218829b1988807f90f872eba515ee40ca1d\n",
            "Successfully built pycombo\n",
            "Installing collected packages: pybind11, importlib-metadata, pycombo\n",
            "  Attempting uninstall: importlib-metadata\n",
            "    Found existing installation: importlib-metadata 4.8.2\n",
            "    Uninstalling importlib-metadata-4.8.2:\n",
            "      Successfully uninstalled importlib-metadata-4.8.2\n",
            "\u001b[31mERROR: pip's dependency resolver does not currently take into account all the packages that are installed. This behaviour is the source of the following dependency conflicts.\n",
            "markdown 3.3.6 requires importlib-metadata>=4.4; python_version < \"3.10\", but you have importlib-metadata 1.7.0 which is incompatible.\u001b[0m\n",
            "Successfully installed importlib-metadata-1.7.0 pybind11-2.8.1 pycombo-0.1.6\n"
          ]
        }
      ]
    },
    {
      "cell_type": "code",
      "execution_count": null,
      "metadata": {
        "colab": {
          "base_uri": "https://localhost:8080/"
        },
        "id": "nMQRUKpAUYYm",
        "outputId": "327158ba-30ce-4f8f-a90d-942c3ebf525e"
      },
      "outputs": [
        {
          "output_type": "stream",
          "name": "stdout",
          "text": [
            "Populating the interactive namespace from numpy and matplotlib\n"
          ]
        },
        {
          "output_type": "stream",
          "name": "stderr",
          "text": [
            "/usr/local/lib/python3.7/dist-packages/statsmodels/tools/_testing.py:19: FutureWarning: pandas.util.testing is deprecated. Use the functions in the public API at pandas.testing instead.\n",
            "  import pandas.util.testing as tm\n"
          ]
        }
      ],
      "source": [
        "import pycombo # combo community detection package\n",
        "import networkx as nx #library supporting networks\n",
        "from networkx.algorithms import community\n",
        "import matplotlib.pyplot as plt #plotting\n",
        "import pandas as pd\n",
        "import numpy as np\n",
        "import scipy.stats as stat\n",
        "import numpy as np\n",
        "#make sure plots are embedded into the notebook\n",
        "%pylab inline \n",
        "import statsmodels.api as sm\n",
        "import warnings\n",
        "#import geopandas as gpd\n",
        "warnings.filterwarnings('ignore')"
      ]
    },
    {
      "cell_type": "code",
      "source": [
        "df = pd.read_csv('/content/drive/MyDrive/ADS midterm/ads/country_partner_hsproduct4digit_year_2014.csv')\n",
        "df.head()"
      ],
      "metadata": {
        "colab": {
          "base_uri": "https://localhost:8080/",
          "height": 226
        },
        "id": "rRv2P2wJA5o9",
        "outputId": "eae73c02-b5ad-41c7-a366-f4846dfbcf65"
      },
      "execution_count": null,
      "outputs": [
        {
          "output_type": "execute_result",
          "data": {
            "text/html": [
              "<div>\n",
              "<style scoped>\n",
              "    .dataframe tbody tr th:only-of-type {\n",
              "        vertical-align: middle;\n",
              "    }\n",
              "\n",
              "    .dataframe tbody tr th {\n",
              "        vertical-align: top;\n",
              "    }\n",
              "\n",
              "    .dataframe thead th {\n",
              "        text-align: right;\n",
              "    }\n",
              "</style>\n",
              "<table border=\"1\" class=\"dataframe\">\n",
              "  <thead>\n",
              "    <tr style=\"text-align: right;\">\n",
              "      <th></th>\n",
              "      <th>location_id</th>\n",
              "      <th>partner_id</th>\n",
              "      <th>product_id</th>\n",
              "      <th>year</th>\n",
              "      <th>export_value</th>\n",
              "      <th>import_value</th>\n",
              "      <th>hs_eci</th>\n",
              "      <th>hs_coi</th>\n",
              "      <th>location_code</th>\n",
              "      <th>partner_code</th>\n",
              "      <th>hs_product_code</th>\n",
              "    </tr>\n",
              "  </thead>\n",
              "  <tbody>\n",
              "    <tr>\n",
              "      <th>0</th>\n",
              "      <td>0</td>\n",
              "      <td>7</td>\n",
              "      <td>833</td>\n",
              "      <td>2014</td>\n",
              "      <td>123032</td>\n",
              "      <td>0</td>\n",
              "      <td>0.815531</td>\n",
              "      <td>-0.292281</td>\n",
              "      <td>ABW</td>\n",
              "      <td>ARE</td>\n",
              "      <td>2204</td>\n",
              "    </tr>\n",
              "    <tr>\n",
              "      <th>1</th>\n",
              "      <td>1</td>\n",
              "      <td>7</td>\n",
              "      <td>833</td>\n",
              "      <td>2014</td>\n",
              "      <td>0</td>\n",
              "      <td>81172</td>\n",
              "      <td>-0.907483</td>\n",
              "      <td>-0.827473</td>\n",
              "      <td>AFG</td>\n",
              "      <td>ARE</td>\n",
              "      <td>2204</td>\n",
              "    </tr>\n",
              "    <tr>\n",
              "      <th>2</th>\n",
              "      <td>2</td>\n",
              "      <td>7</td>\n",
              "      <td>833</td>\n",
              "      <td>2014</td>\n",
              "      <td>0</td>\n",
              "      <td>115361</td>\n",
              "      <td>-1.816664</td>\n",
              "      <td>-1.150108</td>\n",
              "      <td>AGO</td>\n",
              "      <td>ARE</td>\n",
              "      <td>2204</td>\n",
              "    </tr>\n",
              "    <tr>\n",
              "      <th>3</th>\n",
              "      <td>8</td>\n",
              "      <td>7</td>\n",
              "      <td>833</td>\n",
              "      <td>2014</td>\n",
              "      <td>2475957</td>\n",
              "      <td>0</td>\n",
              "      <td>0.101914</td>\n",
              "      <td>0.448220</td>\n",
              "      <td>ARG</td>\n",
              "      <td>ARE</td>\n",
              "      <td>2204</td>\n",
              "    </tr>\n",
              "    <tr>\n",
              "      <th>4</th>\n",
              "      <td>14</td>\n",
              "      <td>7</td>\n",
              "      <td>833</td>\n",
              "      <td>2014</td>\n",
              "      <td>12802326</td>\n",
              "      <td>173159</td>\n",
              "      <td>-0.401914</td>\n",
              "      <td>-0.171766</td>\n",
              "      <td>AUS</td>\n",
              "      <td>ARE</td>\n",
              "      <td>2204</td>\n",
              "    </tr>\n",
              "  </tbody>\n",
              "</table>\n",
              "</div>"
            ],
            "text/plain": [
              "   location_id  partner_id  ...  partner_code  hs_product_code\n",
              "0            0           7  ...           ARE             2204\n",
              "1            1           7  ...           ARE             2204\n",
              "2            2           7  ...           ARE             2204\n",
              "3            8           7  ...           ARE             2204\n",
              "4           14           7  ...           ARE             2204\n",
              "\n",
              "[5 rows x 11 columns]"
            ]
          },
          "metadata": {},
          "execution_count": 29
        }
      ]
    },
    {
      "cell_type": "code",
      "source": [
        "Flights=nx.Graph()\n",
        "Flights.add_nodes_from(df2.location_code)\n",
        "CityPos={c:(df2['long. most active airport'][c],cities['lat. most active airport'][c])\n",
        "         for c in cities.index}"
      ],
      "metadata": {
        "id": "yVjBf5e-LR9M"
      },
      "execution_count": null,
      "outputs": []
    },
    {
      "cell_type": "code",
      "source": [
        "size(df,0)"
      ],
      "metadata": {
        "colab": {
          "base_uri": "https://localhost:8080/"
        },
        "id": "0hkPGMj_IkmO",
        "outputId": "3c733243-10a4-41ea-ab5a-1ce9a38762df"
      },
      "execution_count": null,
      "outputs": [
        {
          "output_type": "execute_result",
          "data": {
            "text/plain": [
              "5467612"
            ]
          },
          "metadata": {},
          "execution_count": 4
        }
      ]
    },
    {
      "cell_type": "code",
      "source": [
        "df2=df.loc[df['product_id']==723]\n",
        "size(df2,0)"
      ],
      "metadata": {
        "colab": {
          "base_uri": "https://localhost:8080/"
        },
        "id": "F5p8-xbmIoVR",
        "outputId": "ea005c0a-aec4-4c3a-8ee2-52e84a4c565b"
      },
      "execution_count": null,
      "outputs": [
        {
          "output_type": "execute_result",
          "data": {
            "text/plain": [
              "1470"
            ]
          },
          "metadata": {},
          "execution_count": 30
        }
      ]
    },
    {
      "cell_type": "code",
      "source": [
        "size(df2['location_id'].unique())"
      ],
      "metadata": {
        "colab": {
          "base_uri": "https://localhost:8080/"
        },
        "id": "n0tIpzbVLF4O",
        "outputId": "2c447828-7486-436b-bbae-de743fc74c4a"
      },
      "execution_count": null,
      "outputs": [
        {
          "output_type": "execute_result",
          "data": {
            "text/plain": [
              "176"
            ]
          },
          "metadata": {},
          "execution_count": 31
        }
      ]
    },
    {
      "cell_type": "code",
      "source": [
        "df2=df2.reset_index()\n",
        "df2.head()"
      ],
      "metadata": {
        "colab": {
          "base_uri": "https://localhost:8080/",
          "height": 226
        },
        "id": "UBNfsuQ4Plkb",
        "outputId": "5ba3ddda-20b9-42b0-b697-f03338d3332f"
      },
      "execution_count": null,
      "outputs": [
        {
          "output_type": "execute_result",
          "data": {
            "text/html": [
              "<div>\n",
              "<style scoped>\n",
              "    .dataframe tbody tr th:only-of-type {\n",
              "        vertical-align: middle;\n",
              "    }\n",
              "\n",
              "    .dataframe tbody tr th {\n",
              "        vertical-align: top;\n",
              "    }\n",
              "\n",
              "    .dataframe thead th {\n",
              "        text-align: right;\n",
              "    }\n",
              "</style>\n",
              "<table border=\"1\" class=\"dataframe\">\n",
              "  <thead>\n",
              "    <tr style=\"text-align: right;\">\n",
              "      <th></th>\n",
              "      <th>index</th>\n",
              "      <th>location_id</th>\n",
              "      <th>partner_id</th>\n",
              "      <th>product_id</th>\n",
              "      <th>year</th>\n",
              "      <th>export_value</th>\n",
              "      <th>import_value</th>\n",
              "      <th>hs_eci</th>\n",
              "      <th>hs_coi</th>\n",
              "      <th>location_code</th>\n",
              "      <th>partner_code</th>\n",
              "      <th>hs_product_code</th>\n",
              "    </tr>\n",
              "  </thead>\n",
              "  <tbody>\n",
              "    <tr>\n",
              "      <th>0</th>\n",
              "      <td>4838128</td>\n",
              "      <td>9</td>\n",
              "      <td>7</td>\n",
              "      <td>723</td>\n",
              "      <td>2014</td>\n",
              "      <td>0</td>\n",
              "      <td>14061</td>\n",
              "      <td>-0.201601</td>\n",
              "      <td>-0.592089</td>\n",
              "      <td>ARM</td>\n",
              "      <td>ARE</td>\n",
              "      <td>812</td>\n",
              "    </tr>\n",
              "    <tr>\n",
              "      <th>1</th>\n",
              "      <td>4838129</td>\n",
              "      <td>14</td>\n",
              "      <td>7</td>\n",
              "      <td>723</td>\n",
              "      <td>2014</td>\n",
              "      <td>133234</td>\n",
              "      <td>0</td>\n",
              "      <td>-0.401914</td>\n",
              "      <td>-0.171766</td>\n",
              "      <td>AUS</td>\n",
              "      <td>ARE</td>\n",
              "      <td>812</td>\n",
              "    </tr>\n",
              "    <tr>\n",
              "      <th>2</th>\n",
              "      <td>4838130</td>\n",
              "      <td>32</td>\n",
              "      <td>7</td>\n",
              "      <td>723</td>\n",
              "      <td>2014</td>\n",
              "      <td>1938</td>\n",
              "      <td>0</td>\n",
              "      <td>0.215985</td>\n",
              "      <td>0.556716</td>\n",
              "      <td>BRA</td>\n",
              "      <td>ARE</td>\n",
              "      <td>812</td>\n",
              "    </tr>\n",
              "    <tr>\n",
              "      <th>3</th>\n",
              "      <td>4838131</td>\n",
              "      <td>43</td>\n",
              "      <td>7</td>\n",
              "      <td>723</td>\n",
              "      <td>2014</td>\n",
              "      <td>14084</td>\n",
              "      <td>0</td>\n",
              "      <td>1.188890</td>\n",
              "      <td>1.220658</td>\n",
              "      <td>CHN</td>\n",
              "      <td>ARE</td>\n",
              "      <td>812</td>\n",
              "    </tr>\n",
              "    <tr>\n",
              "      <th>4</th>\n",
              "      <td>4838132</td>\n",
              "      <td>61</td>\n",
              "      <td>7</td>\n",
              "      <td>723</td>\n",
              "      <td>2014</td>\n",
              "      <td>17427</td>\n",
              "      <td>0</td>\n",
              "      <td>2.057400</td>\n",
              "      <td>-2.877210</td>\n",
              "      <td>DEU</td>\n",
              "      <td>ARE</td>\n",
              "      <td>812</td>\n",
              "    </tr>\n",
              "  </tbody>\n",
              "</table>\n",
              "</div>"
            ],
            "text/plain": [
              "     index  location_id  partner_id  ...  location_code  partner_code  hs_product_code\n",
              "0  4838128            9           7  ...            ARM           ARE              812\n",
              "1  4838129           14           7  ...            AUS           ARE              812\n",
              "2  4838130           32           7  ...            BRA           ARE              812\n",
              "3  4838131           43           7  ...            CHN           ARE              812\n",
              "4  4838132           61           7  ...            DEU           ARE              812\n",
              "\n",
              "[5 rows x 12 columns]"
            ]
          },
          "metadata": {},
          "execution_count": 14
        }
      ]
    },
    {
      "cell_type": "code",
      "source": [
        "loc = pd.read_csv('/content/drive/MyDrive/ADS midterm/ads/worldcities4.csv')\n",
        "loc.head()"
      ],
      "metadata": {
        "colab": {
          "base_uri": "https://localhost:8080/",
          "height": 206
        },
        "id": "tK1OcJOXRrBR",
        "outputId": "c03669d0-dbdd-409b-bfc6-fa3bed078792"
      },
      "execution_count": null,
      "outputs": [
        {
          "output_type": "execute_result",
          "data": {
            "text/html": [
              "<div>\n",
              "<style scoped>\n",
              "    .dataframe tbody tr th:only-of-type {\n",
              "        vertical-align: middle;\n",
              "    }\n",
              "\n",
              "    .dataframe tbody tr th {\n",
              "        vertical-align: top;\n",
              "    }\n",
              "\n",
              "    .dataframe thead th {\n",
              "        text-align: right;\n",
              "    }\n",
              "</style>\n",
              "<table border=\"1\" class=\"dataframe\">\n",
              "  <thead>\n",
              "    <tr style=\"text-align: right;\">\n",
              "      <th></th>\n",
              "      <th>city</th>\n",
              "      <th>lat</th>\n",
              "      <th>lng</th>\n",
              "      <th>country</th>\n",
              "      <th>iso2</th>\n",
              "      <th>iso3</th>\n",
              "      <th>capital</th>\n",
              "      <th>population</th>\n",
              "      <th>id</th>\n",
              "    </tr>\n",
              "  </thead>\n",
              "  <tbody>\n",
              "    <tr>\n",
              "      <th>0</th>\n",
              "      <td>Oranjestad</td>\n",
              "      <td>12.5186</td>\n",
              "      <td>-70.0358</td>\n",
              "      <td>Aruba</td>\n",
              "      <td>AW</td>\n",
              "      <td>ABW</td>\n",
              "      <td>primary</td>\n",
              "      <td>34980.0</td>\n",
              "      <td>1533513057</td>\n",
              "    </tr>\n",
              "    <tr>\n",
              "      <th>1</th>\n",
              "      <td>Kabul</td>\n",
              "      <td>34.5328</td>\n",
              "      <td>69.1658</td>\n",
              "      <td>Afghanistan</td>\n",
              "      <td>AF</td>\n",
              "      <td>AFG</td>\n",
              "      <td>primary</td>\n",
              "      <td>3678034.0</td>\n",
              "      <td>1004993580</td>\n",
              "    </tr>\n",
              "    <tr>\n",
              "      <th>2</th>\n",
              "      <td>Luanda</td>\n",
              "      <td>-8.8383</td>\n",
              "      <td>13.2344</td>\n",
              "      <td>Angola</td>\n",
              "      <td>AO</td>\n",
              "      <td>AGO</td>\n",
              "      <td>primary</td>\n",
              "      <td>8417000.0</td>\n",
              "      <td>1024949724</td>\n",
              "    </tr>\n",
              "    <tr>\n",
              "      <th>3</th>\n",
              "      <td>The Valley</td>\n",
              "      <td>18.2167</td>\n",
              "      <td>-63.0500</td>\n",
              "      <td>Anguilla</td>\n",
              "      <td>AI</td>\n",
              "      <td>AIA</td>\n",
              "      <td>primary</td>\n",
              "      <td>NaN</td>\n",
              "      <td>1660698387</td>\n",
              "    </tr>\n",
              "    <tr>\n",
              "      <th>4</th>\n",
              "      <td>Tirana</td>\n",
              "      <td>41.3300</td>\n",
              "      <td>19.8200</td>\n",
              "      <td>Albania</td>\n",
              "      <td>AL</td>\n",
              "      <td>ALB</td>\n",
              "      <td>primary</td>\n",
              "      <td>418495.0</td>\n",
              "      <td>1008162156</td>\n",
              "    </tr>\n",
              "  </tbody>\n",
              "</table>\n",
              "</div>"
            ],
            "text/plain": [
              "         city      lat      lng  ...  capital population          id\n",
              "0  Oranjestad  12.5186 -70.0358  ...  primary    34980.0  1533513057\n",
              "1       Kabul  34.5328  69.1658  ...  primary  3678034.0  1004993580\n",
              "2      Luanda  -8.8383  13.2344  ...  primary  8417000.0  1024949724\n",
              "3  The Valley  18.2167 -63.0500  ...  primary        NaN  1660698387\n",
              "4      Tirana  41.3300  19.8200  ...  primary   418495.0  1008162156\n",
              "\n",
              "[5 rows x 9 columns]"
            ]
          },
          "metadata": {},
          "execution_count": 32
        }
      ]
    },
    {
      "cell_type": "code",
      "source": [
        "df2=df2.merge(loc,left_on='location_code',right_on='iso3')\n",
        "df2.head()"
      ],
      "metadata": {
        "colab": {
          "base_uri": "https://localhost:8080/",
          "height": 226
        },
        "id": "zE0De1f6S7Ym",
        "outputId": "4fc1691a-2d72-4f11-c287-3ef6d184187e"
      },
      "execution_count": null,
      "outputs": [
        {
          "output_type": "execute_result",
          "data": {
            "text/html": [
              "<div>\n",
              "<style scoped>\n",
              "    .dataframe tbody tr th:only-of-type {\n",
              "        vertical-align: middle;\n",
              "    }\n",
              "\n",
              "    .dataframe tbody tr th {\n",
              "        vertical-align: top;\n",
              "    }\n",
              "\n",
              "    .dataframe thead th {\n",
              "        text-align: right;\n",
              "    }\n",
              "</style>\n",
              "<table border=\"1\" class=\"dataframe\">\n",
              "  <thead>\n",
              "    <tr style=\"text-align: right;\">\n",
              "      <th></th>\n",
              "      <th>location_id</th>\n",
              "      <th>partner_id</th>\n",
              "      <th>product_id</th>\n",
              "      <th>year</th>\n",
              "      <th>export_value</th>\n",
              "      <th>import_value</th>\n",
              "      <th>hs_eci</th>\n",
              "      <th>hs_coi</th>\n",
              "      <th>location_code</th>\n",
              "      <th>partner_code</th>\n",
              "      <th>hs_product_code</th>\n",
              "      <th>city</th>\n",
              "      <th>lat</th>\n",
              "      <th>lng</th>\n",
              "      <th>country</th>\n",
              "      <th>iso2</th>\n",
              "      <th>iso3</th>\n",
              "      <th>capital</th>\n",
              "      <th>population</th>\n",
              "      <th>id</th>\n",
              "    </tr>\n",
              "  </thead>\n",
              "  <tbody>\n",
              "    <tr>\n",
              "      <th>0</th>\n",
              "      <td>14</td>\n",
              "      <td>7</td>\n",
              "      <td>723</td>\n",
              "      <td>2014</td>\n",
              "      <td>133234</td>\n",
              "      <td>0</td>\n",
              "      <td>-0.401914</td>\n",
              "      <td>-0.171766</td>\n",
              "      <td>AUS</td>\n",
              "      <td>ARE</td>\n",
              "      <td>812</td>\n",
              "      <td>Canberra</td>\n",
              "      <td>-35.2931</td>\n",
              "      <td>149.1269</td>\n",
              "      <td>Australia</td>\n",
              "      <td>AU</td>\n",
              "      <td>AUS</td>\n",
              "      <td>primary</td>\n",
              "      <td>426704.0</td>\n",
              "      <td>1036142029</td>\n",
              "    </tr>\n",
              "    <tr>\n",
              "      <th>1</th>\n",
              "      <td>14</td>\n",
              "      <td>43</td>\n",
              "      <td>723</td>\n",
              "      <td>2014</td>\n",
              "      <td>0</td>\n",
              "      <td>26256</td>\n",
              "      <td>-0.401914</td>\n",
              "      <td>-0.171766</td>\n",
              "      <td>AUS</td>\n",
              "      <td>CHN</td>\n",
              "      <td>812</td>\n",
              "      <td>Canberra</td>\n",
              "      <td>-35.2931</td>\n",
              "      <td>149.1269</td>\n",
              "      <td>Australia</td>\n",
              "      <td>AU</td>\n",
              "      <td>AUS</td>\n",
              "      <td>primary</td>\n",
              "      <td>426704.0</td>\n",
              "      <td>1036142029</td>\n",
              "    </tr>\n",
              "    <tr>\n",
              "      <th>2</th>\n",
              "      <td>14</td>\n",
              "      <td>77</td>\n",
              "      <td>723</td>\n",
              "      <td>2014</td>\n",
              "      <td>0</td>\n",
              "      <td>7762</td>\n",
              "      <td>-0.401914</td>\n",
              "      <td>-0.171766</td>\n",
              "      <td>AUS</td>\n",
              "      <td>FRA</td>\n",
              "      <td>812</td>\n",
              "      <td>Canberra</td>\n",
              "      <td>-35.2931</td>\n",
              "      <td>149.1269</td>\n",
              "      <td>Australia</td>\n",
              "      <td>AU</td>\n",
              "      <td>AUS</td>\n",
              "      <td>primary</td>\n",
              "      <td>426704.0</td>\n",
              "      <td>1036142029</td>\n",
              "    </tr>\n",
              "    <tr>\n",
              "      <th>3</th>\n",
              "      <td>14</td>\n",
              "      <td>97</td>\n",
              "      <td>723</td>\n",
              "      <td>2014</td>\n",
              "      <td>49365</td>\n",
              "      <td>2755</td>\n",
              "      <td>-0.401914</td>\n",
              "      <td>-0.171766</td>\n",
              "      <td>AUS</td>\n",
              "      <td>HKG</td>\n",
              "      <td>812</td>\n",
              "      <td>Canberra</td>\n",
              "      <td>-35.2931</td>\n",
              "      <td>149.1269</td>\n",
              "      <td>Australia</td>\n",
              "      <td>AU</td>\n",
              "      <td>AUS</td>\n",
              "      <td>primary</td>\n",
              "      <td>426704.0</td>\n",
              "      <td>1036142029</td>\n",
              "    </tr>\n",
              "    <tr>\n",
              "      <th>4</th>\n",
              "      <td>14</td>\n",
              "      <td>104</td>\n",
              "      <td>723</td>\n",
              "      <td>2014</td>\n",
              "      <td>0</td>\n",
              "      <td>9725</td>\n",
              "      <td>-0.401914</td>\n",
              "      <td>-0.171766</td>\n",
              "      <td>AUS</td>\n",
              "      <td>IND</td>\n",
              "      <td>812</td>\n",
              "      <td>Canberra</td>\n",
              "      <td>-35.2931</td>\n",
              "      <td>149.1269</td>\n",
              "      <td>Australia</td>\n",
              "      <td>AU</td>\n",
              "      <td>AUS</td>\n",
              "      <td>primary</td>\n",
              "      <td>426704.0</td>\n",
              "      <td>1036142029</td>\n",
              "    </tr>\n",
              "  </tbody>\n",
              "</table>\n",
              "</div>"
            ],
            "text/plain": [
              "   location_id  partner_id  product_id  ...  capital  population          id\n",
              "0           14           7         723  ...  primary    426704.0  1036142029\n",
              "1           14          43         723  ...  primary    426704.0  1036142029\n",
              "2           14          77         723  ...  primary    426704.0  1036142029\n",
              "3           14          97         723  ...  primary    426704.0  1036142029\n",
              "4           14         104         723  ...  primary    426704.0  1036142029\n",
              "\n",
              "[5 rows x 20 columns]"
            ]
          },
          "metadata": {},
          "execution_count": 34
        }
      ]
    },
    {
      "cell_type": "markdown",
      "source": [
        "Report top nodes by centrality\n",
        "Print the node labels and corresponding centrality measure for top 5 nodes in terms of\n",
        "\n",
        "a) degree centrality;\n",
        "\n",
        "b) betweenness centrality;\n",
        "\n",
        "c) closeness centrality;"
      ],
      "metadata": {
        "id": "Y3a4wqLPU1Zt"
      }
    },
    {
      "cell_type": "code",
      "source": [
        "trades=nx.DiGraph()\n",
        "nx.set_edge_attributes(trades,'weight', 0)\n",
        "for k in df2.index:\n",
        "    trades.add_edge(df2['location_code'][k],df2['partner_code'][k],weight=df2['export_value'][k])"
      ],
      "metadata": {
        "id": "DXgGUIp0X2VM"
      },
      "execution_count": null,
      "outputs": []
    },
    {
      "cell_type": "code",
      "source": [
        "trades"
      ],
      "metadata": {
        "colab": {
          "base_uri": "https://localhost:8080/"
        },
        "id": "A_WFA9NUWmgP",
        "outputId": "54febfdc-2363-4c41-d755-3b8f3e157af3"
      },
      "execution_count": null,
      "outputs": [
        {
          "output_type": "execute_result",
          "data": {
            "text/plain": [
              "<networkx.classes.digraph.DiGraph at 0x7f249c6c0210>"
            ]
          },
          "metadata": {},
          "execution_count": 47
        }
      ]
    },
    {
      "cell_type": "code",
      "source": [
        "trades.number_of_nodes()"
      ],
      "metadata": {
        "colab": {
          "base_uri": "https://localhost:8080/"
        },
        "id": "9qdzplfvXZML",
        "outputId": "3b25466c-dbb1-4eb1-fd83-6b43a443fd06"
      },
      "execution_count": null,
      "outputs": [
        {
          "output_type": "execute_result",
          "data": {
            "text/plain": [
              "176"
            ]
          },
          "metadata": {},
          "execution_count": 48
        }
      ]
    },
    {
      "cell_type": "code",
      "source": [
        "trades.number_of_edges()"
      ],
      "metadata": {
        "colab": {
          "base_uri": "https://localhost:8080/"
        },
        "id": "gsiM1bRIXbM5",
        "outputId": "720c00af-f76d-4e45-99c4-56ca185e4b19"
      },
      "execution_count": null,
      "outputs": [
        {
          "output_type": "execute_result",
          "data": {
            "text/plain": [
              "1425"
            ]
          },
          "metadata": {},
          "execution_count": 49
        }
      ]
    },
    {
      "cell_type": "code",
      "source": [
        "G=trades"
      ],
      "metadata": {
        "id": "jW6y11rDXgmj"
      },
      "execution_count": null,
      "outputs": []
    },
    {
      "cell_type": "code",
      "source": [
        "degrees = dict(G.degree(G.nodes()))\n",
        "\n",
        "# save the degrees as a node attribute\n",
        "nx.set_node_attributes(G, degrees, 'degree')\n",
        "\n",
        "# check what has been saved\n",
        "G.nodes.data()"
      ],
      "metadata": {
        "colab": {
          "base_uri": "https://localhost:8080/"
        },
        "id": "QM7qOiyEXfaR",
        "outputId": "11d3353b-331c-439f-9a34-3ea963e40f9d"
      },
      "execution_count": null,
      "outputs": [
        {
          "output_type": "execute_result",
          "data": {
            "text/plain": [
              "NodeDataView({'AUS': {'degree': 31}, 'ARE': {'degree': 52}, 'CHN': {'degree': 61}, 'FRA': {'degree': 93}, 'HKG': {'degree': 26}, 'IND': {'degree': 55}, 'ITA': {'degree': 99}, 'JPN': {'degree': 34}, 'MYS': {'degree': 57}, 'NLD': {'degree': 95}, 'NZL': {'degree': 24}, 'PER': {'degree': 11}, 'THA': {'degree': 57}, 'USA': {'degree': 127}, 'NRU': {'degree': 1}, 'FJI': {'degree': 6}, 'NCL': {'degree': 4}, 'BRA': {'degree': 39}, 'ARG': {'degree': 16}, 'CAN': {'degree': 35}, 'CHE': {'degree': 20}, 'CHL': {'degree': 24}, 'DEU': {'degree': 117}, 'ESP': {'degree': 97}, 'GBR': {'degree': 86}, 'PRT': {'degree': 26}, 'SGP': {'degree': 40}, 'SUR': {'degree': 12}, 'SVK': {'degree': 14}, 'TUR': {'degree': 45}, 'ROU': {'degree': 40}, 'BOL': {'degree': 8}, 'KOR': {'degree': 16}, 'SAU': {'degree': 26}, 'TWN': {'degree': 25}, 'BGR': {'degree': 47}, 'BHR': {'degree': 26}, 'EGY': {'degree': 28}, 'KGZ': {'degree': 4}, 'MOZ': {'degree': 8}, 'PAK': {'degree': 19}, 'ETH': {'degree': 6}, 'MDG': {'degree': 23}, 'VNM': {'degree': 23}, 'AUT': {'degree': 71}, 'BEL': {'degree': 36}, 'COL': {'degree': 23}, 'CRI': {'degree': 16}, 'CYP': {'degree': 6}, 'CZE': {'degree': 24}, 'DNK': {'degree': 24}, 'DOM': {'degree': 30}, 'ECU': {'degree': 6}, 'FIN': {'degree': 20}, 'GRC': {'degree': 48}, 'GTM': {'degree': 13}, 'HUN': {'degree': 22}, 'IDN': {'degree': 14}, 'IRL': {'degree': 25}, 'ISR': {'degree': 25}, 'MAR': {'degree': 17}, 'MEX': {'degree': 17}, 'PHL': {'degree': 29}, 'POL': {'degree': 40}, 'SVN': {'degree': 6}, 'SWE': {'degree': 18}, 'ZAF': {'degree': 72}, 'ANS': {'degree': 7}, 'CIV': {'degree': 5}, 'LTU': {'degree': 13}, 'LUX': {'degree': 10}, 'LVA': {'degree': 12}, 'SRB': {'degree': 12}, 'GHA': {'degree': 6}, 'ISL': {'degree': 8}, 'MLI': {'degree': 2}, 'MLT': {'degree': 10}, 'PRK': {'degree': 2}, 'TUN': {'degree': 8}, 'ZWE': {'degree': 4}, 'MDA': {'degree': 10}, 'MDV': {'degree': 8}, 'DJI': {'degree': 4}, 'JOR': {'degree': 6}, 'KWT': {'degree': 18}, 'SDN': {'degree': 4}, 'LBN': {'degree': 12}, 'QAT': {'degree': 8}, 'EST': {'degree': 16}, 'NOR': {'degree': 10}, 'GNQ': {'degree': 2}, 'OMN': {'degree': 8}, 'HND': {'degree': 5}, 'JAM': {'degree': 5}, 'ATG': {'degree': 2}, 'BGD': {'degree': 9}, 'KNA': {'degree': 4}, 'NGA': {'degree': 12}, 'BMU': {'degree': 4}, 'TTO': {'degree': 13}, 'HRV': {'degree': 8}, 'YEM': {'degree': 4}, 'NPL': {'degree': 2}, 'DZA': {'degree': 6}, 'KEN': {'degree': 10}, 'KHM': {'degree': 8}, 'IRN': {'degree': 9}, 'IRQ': {'degree': 6}, 'BRB': {'degree': 16}, 'VEN': {'degree': 2}, 'MUS': {'degree': 4}, 'CUW': {'degree': 2}, 'LKA': {'degree': 9}, 'ABW': {'degree': 6}, 'BES': {'degree': 1}, 'LAO': {'degree': 4}, 'MMR': {'degree': 6}, 'BHS': {'degree': 2}, 'NIC': {'degree': 4}, 'PAN': {'degree': 4}, 'SLV': {'degree': 6}, 'VGB': {'degree': 2}, 'GUY': {'degree': 7}, 'LCA': {'degree': 5}, 'CYM': {'degree': 2}, 'AFG': {'degree': 2}, 'BRN': {'degree': 8}, 'HTI': {'degree': 5}, 'TCA': {'degree': 4}, 'AIA': {'degree': 2}, 'ZMB': {'degree': 4}, 'UKR': {'degree': 6}, 'AZE': {'degree': 4}, 'BFA': {'degree': 2}, 'UZB': {'degree': 4}, 'RUS': {'degree': 10}, 'CPV': {'degree': 2}, 'AGO': {'degree': 6}, 'SEN': {'degree': 2}, 'BEN': {'degree': 4}, 'TGO': {'degree': 2}, 'GAB': {'degree': 2}, 'KAZ': {'degree': 8}, 'MKD': {'degree': 2}, 'MNE': {'degree': 2}, 'LBY': {'degree': 2}, 'GEO': {'degree': 2}, 'MNG': {'degree': 2}, 'ARM': {'degree': 1}, 'SYC': {'degree': 4}, 'GRD': {'degree': 2}, 'VCT': {'degree': 3}, 'SPM': {'degree': 1}, 'SYR': {'degree': 3}, 'PLW': {'degree': 2}, 'KIR': {'degree': 2}, 'BWA': {'degree': 2}, 'COD': {'degree': 4}, 'NAM': {'degree': 4}, 'SWZ': {'degree': 2}, 'TZA': {'degree': 2}, 'UGA': {'degree': 4}, 'LSO': {'degree': 2}, 'MWI': {'degree': 2}, 'SHN': {'degree': 2}, 'COG': {'degree': 2}, 'WSM': {'degree': 2}, 'TON': {'degree': 2}, 'COK': {'degree': 2}, 'NFK': {'degree': 2}, 'BLR': {'degree': 2}, 'RWA': {'degree': 2}, 'SSD': {'degree': 2}, 'VUT': {'degree': 2}, 'CMR': {'degree': 2}, 'CAF': {'degree': 2}})"
            ]
          },
          "metadata": {},
          "execution_count": 54
        }
      ]
    },
    {
      "cell_type": "code",
      "source": [
        "import operator\n",
        "deg_centrality = nx.degree_centrality(G)\n",
        "sorted(deg_centrality.items(), key=operator.itemgetter(1), reverse = True)[0:10]"
      ],
      "metadata": {
        "colab": {
          "base_uri": "https://localhost:8080/"
        },
        "id": "Q64a0CARXkAW",
        "outputId": "dc4b1a09-d1de-4bb4-de52-39ed21f85428"
      },
      "execution_count": null,
      "outputs": [
        {
          "output_type": "execute_result",
          "data": {
            "text/plain": [
              "[('USA', 0.7257142857142858),\n",
              " ('DEU', 0.6685714285714286),\n",
              " ('ITA', 0.5657142857142857),\n",
              " ('ESP', 0.5542857142857143),\n",
              " ('NLD', 0.5428571428571428),\n",
              " ('FRA', 0.5314285714285715),\n",
              " ('GBR', 0.49142857142857144),\n",
              " ('ZAF', 0.4114285714285714),\n",
              " ('AUT', 0.4057142857142857),\n",
              " ('CHN', 0.3485714285714286)]"
            ]
          },
          "metadata": {},
          "execution_count": 56
        }
      ]
    },
    {
      "cell_type": "code",
      "source": [
        "btwnCent = nx.betweenness_centrality(G, endpoints = False, #include/exclude node v in source/target\n",
        "                                        normalized = True,\n",
        "                                        k = 10)  #approximation\n",
        "\n",
        "\n",
        "sorted(btwnCent.items(), key=operator.itemgetter(1), reverse = True)[0:10]"
      ],
      "metadata": {
        "colab": {
          "base_uri": "https://localhost:8080/"
        },
        "id": "YBtIdeuMYGwS",
        "outputId": "01ee3a42-cade-488d-f565-42d40d32c8bb"
      },
      "execution_count": null,
      "outputs": [
        {
          "output_type": "execute_result",
          "data": {
            "text/plain": [
              "[('ZAF', 0.45131293597978106),\n",
              " ('USA', 0.2082575578202078),\n",
              " ('DEU', 0.11692289346105138),\n",
              " ('UGA', 0.10403940886699505),\n",
              " ('ARE', 0.06988768640769938),\n",
              " ('ESP', 0.061986471862009195),\n",
              " ('FRA', 0.058979159237603815),\n",
              " ('MYS', 0.05296045549118039),\n",
              " ('ITA', 0.051623034177971566),\n",
              " ('IND', 0.05074991147021297)]"
            ]
          },
          "metadata": {},
          "execution_count": 57
        }
      ]
    },
    {
      "cell_type": "code",
      "source": [
        "#c)\n",
        "close_centrality = nx.closeness_centrality(G)\n",
        "sorted(close_centrality.items(), key=operator.itemgetter(1), reverse = True)[0:10]"
      ],
      "metadata": {
        "colab": {
          "base_uri": "https://localhost:8080/"
        },
        "id": "W5P4E8e2YLPo",
        "outputId": "4cb95ea3-664d-4a52-b7d1-5b46310565c3"
      },
      "execution_count": null,
      "outputs": [
        {
          "output_type": "execute_result",
          "data": {
            "text/plain": [
              "[('USA', 0.5691632653061225),\n",
              " ('DEU', 0.5457729941291585),\n",
              " ('ITA', 0.5402227602905568),\n",
              " ('ESP', 0.5259594530881659),\n",
              " ('NLD', 0.5225105386416862),\n",
              " ('GBR', 0.5208029878618113),\n",
              " ('FRA', 0.5043218806509946),\n",
              " ('MYS', 0.48885188431200705),\n",
              " ('THA', 0.48885188431200705),\n",
              " ('ZAF', 0.48587108013937286)]"
            ]
          },
          "metadata": {},
          "execution_count": 58
        }
      ]
    },
    {
      "cell_type": "code",
      "source": [
        "Flights=nx.Graph()\n",
        "Flights.add_nodes_from(df2.index)\n",
        "CityPos={c:(df2['lng'][c],df2['lat'][c])\n",
        "         for c in df2.index}"
      ],
      "metadata": {
        "id": "VHuXIKHORqlJ"
      },
      "execution_count": null,
      "outputs": []
    },
    {
      "cell_type": "code",
      "source": [
        "plt.figure(figsize = (12,6))\n",
        "nx.draw(Flights,pos=CityPos,with_labels=False,arrows=False,node_size=25)"
      ],
      "metadata": {
        "colab": {
          "base_uri": "https://localhost:8080/",
          "height": 443
        },
        "id": "QT2V5XiWWPrv",
        "outputId": "409cdd37-d695-446b-8151-9a40dce4f18b"
      },
      "execution_count": null,
      "outputs": [
        {
          "output_type": "display_data",
          "data": {
            "image/png": "[encoded data removed]",
            "text/plain": [
              "<Figure size 864x432 with 1 Axes>"
            ]
          },
          "metadata": {}
        }
      ]
    },
    {
      "cell_type": "code",
      "source": [
        "EN=len(df2.index)\n",
        "edgelist=[(df2['location_code'][j],df2['partner_code'][j]) for j in range(EN)]\n",
        "edgelist[:5]"
      ],
      "metadata": {
        "colab": {
          "base_uri": "https://localhost:8080/"
        },
        "id": "-biuUtjQW9NO",
        "outputId": "1c20c5d6-b39d-4602-ee97-cc5dc14fac23"
      },
      "execution_count": null,
      "outputs": [
        {
          "output_type": "execute_result",
          "data": {
            "text/plain": [
              "[('AUS', 'ARE'),\n",
              " ('AUS', 'CHN'),\n",
              " ('AUS', 'FRA'),\n",
              " ('AUS', 'HKG'),\n",
              " ('AUS', 'IND')]"
            ]
          },
          "metadata": {},
          "execution_count": 65
        }
      ]
    },
    {
      "cell_type": "code",
      "source": [
        "Flights.add_edges_from(edgelist)"
      ],
      "metadata": {
        "id": "2kLcMgkOXGg-"
      },
      "execution_count": null,
      "outputs": []
    },
    {
      "cell_type": "code",
      "source": [
        "#visualize the network\n",
        "plt.figure(figsize = (12,6))\n",
        "nx.draw(Flights,pos=CityPos,with_labels=False,node_size=15,style='dotted',edge_color='green')"
      ],
      "metadata": {
        "colab": {
          "base_uri": "https://localhost:8080/",
          "height": 922
        },
        "id": "OJFH8qMWYszb",
        "outputId": "ffcf92a5-a921-4584-a894-1aa80db54596"
      },
      "execution_count": null,
      "outputs": [
        {
          "output_type": "error",
          "ename": "NetworkXError",
          "evalue": "ignored",
          "traceback": [
            "\u001b[0;31m---------------------------------------------------------------------------\u001b[0m",
            "\u001b[0;31mKeyError\u001b[0m                                  Traceback (most recent call last)",
            "\u001b[0;32m/usr/local/lib/python3.7/dist-packages/networkx/drawing/nx_pylab.py\u001b[0m in \u001b[0;36mdraw_networkx_nodes\u001b[0;34m(G, pos, nodelist, node_size, node_color, node_shape, alpha, cmap, vmin, vmax, ax, linewidths, edgecolors, label, margins)\u001b[0m\n\u001b[1;32m    453\u001b[0m     \u001b[0;32mtry\u001b[0m\u001b[0;34m:\u001b[0m\u001b[0;34m\u001b[0m\u001b[0;34m\u001b[0m\u001b[0m\n\u001b[0;32m--> 454\u001b[0;31m         \u001b[0mxy\u001b[0m \u001b[0;34m=\u001b[0m \u001b[0mnp\u001b[0m\u001b[0;34m.\u001b[0m\u001b[0masarray\u001b[0m\u001b[0;34m(\u001b[0m\u001b[0;34m[\u001b[0m\u001b[0mpos\u001b[0m\u001b[0;34m[\u001b[0m\u001b[0mv\u001b[0m\u001b[0;34m]\u001b[0m \u001b[0;32mfor\u001b[0m \u001b[0mv\u001b[0m \u001b[0;32min\u001b[0m \u001b[0mnodelist\u001b[0m\u001b[0;34m]\u001b[0m\u001b[0;34m)\u001b[0m\u001b[0;34m\u001b[0m\u001b[0;34m\u001b[0m\u001b[0m\n\u001b[0m\u001b[1;32m    455\u001b[0m     \u001b[0;32mexcept\u001b[0m \u001b[0mKeyError\u001b[0m \u001b[0;32mas\u001b[0m \u001b[0me\u001b[0m\u001b[0;34m:\u001b[0m\u001b[0;34m\u001b[0m\u001b[0;34m\u001b[0m\u001b[0m\n",
            "\u001b[0;32m/usr/local/lib/python3.7/dist-packages/networkx/drawing/nx_pylab.py\u001b[0m in \u001b[0;36m<listcomp>\u001b[0;34m(.0)\u001b[0m\n\u001b[1;32m    453\u001b[0m     \u001b[0;32mtry\u001b[0m\u001b[0;34m:\u001b[0m\u001b[0;34m\u001b[0m\u001b[0;34m\u001b[0m\u001b[0m\n\u001b[0;32m--> 454\u001b[0;31m         \u001b[0mxy\u001b[0m \u001b[0;34m=\u001b[0m \u001b[0mnp\u001b[0m\u001b[0;34m.\u001b[0m\u001b[0masarray\u001b[0m\u001b[0;34m(\u001b[0m\u001b[0;34m[\u001b[0m\u001b[0mpos\u001b[0m\u001b[0;34m[\u001b[0m\u001b[0mv\u001b[0m\u001b[0;34m]\u001b[0m \u001b[0;32mfor\u001b[0m \u001b[0mv\u001b[0m \u001b[0;32min\u001b[0m \u001b[0mnodelist\u001b[0m\u001b[0;34m]\u001b[0m\u001b[0;34m)\u001b[0m\u001b[0;34m\u001b[0m\u001b[0;34m\u001b[0m\u001b[0m\n\u001b[0m\u001b[1;32m    455\u001b[0m     \u001b[0;32mexcept\u001b[0m \u001b[0mKeyError\u001b[0m \u001b[0;32mas\u001b[0m \u001b[0me\u001b[0m\u001b[0;34m:\u001b[0m\u001b[0;34m\u001b[0m\u001b[0;34m\u001b[0m\u001b[0m\n",
            "\u001b[0;31mKeyError\u001b[0m: 'AUS'",
            "\nThe above exception was the direct cause of the following exception:\n",
            "\u001b[0;31mNetworkXError\u001b[0m                             Traceback (most recent call last)",
            "\u001b[0;32m<ipython-input-67-bf5aa4937026>\u001b[0m in \u001b[0;36m<module>\u001b[0;34m()\u001b[0m\n\u001b[1;32m      1\u001b[0m \u001b[0;31m#visualize the network\u001b[0m\u001b[0;34m\u001b[0m\u001b[0;34m\u001b[0m\u001b[0;34m\u001b[0m\u001b[0m\n\u001b[1;32m      2\u001b[0m \u001b[0mplt\u001b[0m\u001b[0;34m.\u001b[0m\u001b[0mfigure\u001b[0m\u001b[0;34m(\u001b[0m\u001b[0mfigsize\u001b[0m \u001b[0;34m=\u001b[0m \u001b[0;34m(\u001b[0m\u001b[0;36m12\u001b[0m\u001b[0;34m,\u001b[0m\u001b[0;36m6\u001b[0m\u001b[0;34m)\u001b[0m\u001b[0;34m)\u001b[0m\u001b[0;34m\u001b[0m\u001b[0;34m\u001b[0m\u001b[0m\n\u001b[0;32m----> 3\u001b[0;31m \u001b[0mnx\u001b[0m\u001b[0;34m.\u001b[0m\u001b[0mdraw\u001b[0m\u001b[0;34m(\u001b[0m\u001b[0mFlights\u001b[0m\u001b[0;34m,\u001b[0m\u001b[0mpos\u001b[0m\u001b[0;34m=\u001b[0m\u001b[0mCityPos\u001b[0m\u001b[0;34m,\u001b[0m\u001b[0mwith_labels\u001b[0m\u001b[0;34m=\u001b[0m\u001b[0;32mFalse\u001b[0m\u001b[0;34m,\u001b[0m\u001b[0mnode_size\u001b[0m\u001b[0;34m=\u001b[0m\u001b[0;36m15\u001b[0m\u001b[0;34m,\u001b[0m\u001b[0mstyle\u001b[0m\u001b[0;34m=\u001b[0m\u001b[0;34m'dotted'\u001b[0m\u001b[0;34m,\u001b[0m\u001b[0medge_color\u001b[0m\u001b[0;34m=\u001b[0m\u001b[0;34m'green'\u001b[0m\u001b[0;34m)\u001b[0m\u001b[0;34m\u001b[0m\u001b[0;34m\u001b[0m\u001b[0m\n\u001b[0m",
            "\u001b[0;32m/usr/local/lib/python3.7/dist-packages/networkx/drawing/nx_pylab.py\u001b[0m in \u001b[0;36mdraw\u001b[0;34m(G, pos, ax, **kwds)\u001b[0m\n\u001b[1;32m    119\u001b[0m         \u001b[0mkwds\u001b[0m\u001b[0;34m[\u001b[0m\u001b[0;34m\"with_labels\"\u001b[0m\u001b[0;34m]\u001b[0m \u001b[0;34m=\u001b[0m \u001b[0;34m\"labels\"\u001b[0m \u001b[0;32min\u001b[0m \u001b[0mkwds\u001b[0m\u001b[0;34m\u001b[0m\u001b[0;34m\u001b[0m\u001b[0m\n\u001b[1;32m    120\u001b[0m \u001b[0;34m\u001b[0m\u001b[0m\n\u001b[0;32m--> 121\u001b[0;31m     \u001b[0mdraw_networkx\u001b[0m\u001b[0;34m(\u001b[0m\u001b[0mG\u001b[0m\u001b[0;34m,\u001b[0m \u001b[0mpos\u001b[0m\u001b[0;34m=\u001b[0m\u001b[0mpos\u001b[0m\u001b[0;34m,\u001b[0m \u001b[0max\u001b[0m\u001b[0;34m=\u001b[0m\u001b[0max\u001b[0m\u001b[0;34m,\u001b[0m \u001b[0;34m**\u001b[0m\u001b[0mkwds\u001b[0m\u001b[0;34m)\u001b[0m\u001b[0;34m\u001b[0m\u001b[0;34m\u001b[0m\u001b[0m\n\u001b[0m\u001b[1;32m    122\u001b[0m     \u001b[0max\u001b[0m\u001b[0;34m.\u001b[0m\u001b[0mset_axis_off\u001b[0m\u001b[0;34m(\u001b[0m\u001b[0;34m)\u001b[0m\u001b[0;34m\u001b[0m\u001b[0;34m\u001b[0m\u001b[0m\n\u001b[1;32m    123\u001b[0m     \u001b[0mplt\u001b[0m\u001b[0;34m.\u001b[0m\u001b[0mdraw_if_interactive\u001b[0m\u001b[0;34m(\u001b[0m\u001b[0;34m)\u001b[0m\u001b[0;34m\u001b[0m\u001b[0;34m\u001b[0m\u001b[0m\n",
            "\u001b[0;32m/usr/local/lib/python3.7/dist-packages/networkx/drawing/nx_pylab.py\u001b[0m in \u001b[0;36mdraw_networkx\u001b[0;34m(G, pos, arrows, with_labels, **kwds)\u001b[0m\n\u001b[1;32m    331\u001b[0m         \u001b[0mpos\u001b[0m \u001b[0;34m=\u001b[0m \u001b[0mnx\u001b[0m\u001b[0;34m.\u001b[0m\u001b[0mdrawing\u001b[0m\u001b[0;34m.\u001b[0m\u001b[0mspring_layout\u001b[0m\u001b[0;34m(\u001b[0m\u001b[0mG\u001b[0m\u001b[0;34m)\u001b[0m  \u001b[0;31m# default to spring layout\u001b[0m\u001b[0;34m\u001b[0m\u001b[0;34m\u001b[0m\u001b[0m\n\u001b[1;32m    332\u001b[0m \u001b[0;34m\u001b[0m\u001b[0m\n\u001b[0;32m--> 333\u001b[0;31m     \u001b[0mdraw_networkx_nodes\u001b[0m\u001b[0;34m(\u001b[0m\u001b[0mG\u001b[0m\u001b[0;34m,\u001b[0m \u001b[0mpos\u001b[0m\u001b[0;34m,\u001b[0m \u001b[0;34m**\u001b[0m\u001b[0mnode_kwds\u001b[0m\u001b[0;34m)\u001b[0m\u001b[0;34m\u001b[0m\u001b[0;34m\u001b[0m\u001b[0m\n\u001b[0m\u001b[1;32m    334\u001b[0m     \u001b[0mdraw_networkx_edges\u001b[0m\u001b[0;34m(\u001b[0m\u001b[0mG\u001b[0m\u001b[0;34m,\u001b[0m \u001b[0mpos\u001b[0m\u001b[0;34m,\u001b[0m \u001b[0marrows\u001b[0m\u001b[0;34m=\u001b[0m\u001b[0marrows\u001b[0m\u001b[0;34m,\u001b[0m \u001b[0;34m**\u001b[0m\u001b[0medge_kwds\u001b[0m\u001b[0;34m)\u001b[0m\u001b[0;34m\u001b[0m\u001b[0;34m\u001b[0m\u001b[0m\n\u001b[1;32m    335\u001b[0m     \u001b[0;32mif\u001b[0m \u001b[0mwith_labels\u001b[0m\u001b[0;34m:\u001b[0m\u001b[0;34m\u001b[0m\u001b[0;34m\u001b[0m\u001b[0m\n",
            "\u001b[0;32m/usr/local/lib/python3.7/dist-packages/networkx/drawing/nx_pylab.py\u001b[0m in \u001b[0;36mdraw_networkx_nodes\u001b[0;34m(G, pos, nodelist, node_size, node_color, node_shape, alpha, cmap, vmin, vmax, ax, linewidths, edgecolors, label, margins)\u001b[0m\n\u001b[1;32m    454\u001b[0m         \u001b[0mxy\u001b[0m \u001b[0;34m=\u001b[0m \u001b[0mnp\u001b[0m\u001b[0;34m.\u001b[0m\u001b[0masarray\u001b[0m\u001b[0;34m(\u001b[0m\u001b[0;34m[\u001b[0m\u001b[0mpos\u001b[0m\u001b[0;34m[\u001b[0m\u001b[0mv\u001b[0m\u001b[0;34m]\u001b[0m \u001b[0;32mfor\u001b[0m \u001b[0mv\u001b[0m \u001b[0;32min\u001b[0m \u001b[0mnodelist\u001b[0m\u001b[0;34m]\u001b[0m\u001b[0;34m)\u001b[0m\u001b[0;34m\u001b[0m\u001b[0;34m\u001b[0m\u001b[0m\n\u001b[1;32m    455\u001b[0m     \u001b[0;32mexcept\u001b[0m \u001b[0mKeyError\u001b[0m \u001b[0;32mas\u001b[0m \u001b[0me\u001b[0m\u001b[0;34m:\u001b[0m\u001b[0;34m\u001b[0m\u001b[0;34m\u001b[0m\u001b[0m\n\u001b[0;32m--> 456\u001b[0;31m         \u001b[0;32mraise\u001b[0m \u001b[0mnx\u001b[0m\u001b[0;34m.\u001b[0m\u001b[0mNetworkXError\u001b[0m\u001b[0;34m(\u001b[0m\u001b[0;34mf\"Node {e} has no position.\"\u001b[0m\u001b[0;34m)\u001b[0m \u001b[0;32mfrom\u001b[0m \u001b[0me\u001b[0m\u001b[0;34m\u001b[0m\u001b[0;34m\u001b[0m\u001b[0m\n\u001b[0m\u001b[1;32m    457\u001b[0m \u001b[0;34m\u001b[0m\u001b[0m\n\u001b[1;32m    458\u001b[0m     \u001b[0;32mif\u001b[0m \u001b[0misinstance\u001b[0m\u001b[0;34m(\u001b[0m\u001b[0malpha\u001b[0m\u001b[0;34m,\u001b[0m \u001b[0mIterable\u001b[0m\u001b[0;34m)\u001b[0m\u001b[0;34m:\u001b[0m\u001b[0;34m\u001b[0m\u001b[0;34m\u001b[0m\u001b[0m\n",
            "\u001b[0;31mNetworkXError\u001b[0m: Node 'AUS' has no position."
          ]
        },
        {
          "output_type": "display_data",
          "data": {
            "image/png": "[encoded data removed]",
            "text/plain": [
              "<Figure size 864x432 with 1 Axes>"
            ]
          },
          "metadata": {}
        }
      ]
    },
    {
      "cell_type": "code",
      "source": [
        "#most connected airport\n",
        "AirportDeg=dict(Flights.degree())\n",
        "TopAirport=list(AirportDeg.keys())[np.argmax(list(AirportDeg.values()))]\n",
        "print('Most connected airport is {0} with {1} connections'.format(TopAirport,AirportDeg[TopAirport]))"
      ],
      "metadata": {
        "id": "nNVZ3p9yZK95"
      },
      "execution_count": null,
      "outputs": []
    },
    {
      "cell_type": "code",
      "source": [
        "df2.columns"
      ],
      "metadata": {
        "colab": {
          "base_uri": "https://localhost:8080/"
        },
        "id": "bUtvfXVwJAe7",
        "outputId": "9c39a1f3-0414-486c-d348-187e4c59b4f3"
      },
      "execution_count": null,
      "outputs": [
        {
          "output_type": "execute_result",
          "data": {
            "text/plain": [
              "Index(['location_id', 'partner_id', 'product_id', 'year', 'export_value',\n",
              "       'import_value', 'hs_eci', 'hs_coi', 'location_code', 'partner_code',\n",
              "       'hs_product_code', 'city', 'lat', 'lng', 'country', 'iso2', 'iso3',\n",
              "       'capital', 'population', 'id'],\n",
              "      dtype='object')"
            ]
          },
          "metadata": {},
          "execution_count": 68
        }
      ]
    }
  ]
}